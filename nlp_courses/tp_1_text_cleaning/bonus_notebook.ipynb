{
 "cells": [
  {
   "cell_type": "code",
   "execution_count": 1,
   "metadata": {},
   "outputs": [],
   "source": [
    "import re  # noqa: F401\n",
    "import string  # noqa: F401\n",
    "\n",
    "import nltk  # noqa: F401\n",
    "import pandas as pd\n",
    "from nltk.corpus import stopwords, wordnet  # noqa: F401\n",
    "from nltk.stem import WordNetLemmatizer  # noqa: F401\n",
    "from sklearn.pipeline import Pipeline  # noqa: F401\n",
    "from sklearn.preprocessing import FunctionTransformer  # noqa: F401\n",
    "from utils import emojis_unicode, emoticons, slang_words  # noqa: F401"
   ]
  },
  {
   "cell_type": "code",
   "execution_count": 2,
   "metadata": {},
   "outputs": [],
   "source": [
    "# Declare your cleaning functions here\n",
    "# Chain those functions together inside the preprocessing pipeline\n",
    "# You can use (or not) Sklearn pipelines and functionTransformer for readability\n",
    "# and modularity\n",
    "# --- Documentation ---\n",
    "# https://scikit-learn.org/stable/modules/generated/sklearn.pipeline.Pipeline.html\n",
    "# https://scikit-learn.org/stable/modules/generated/sklearn.preprocessing.FunctionTransformer.html"
   ]
  },
  {
   "cell_type": "code",
   "execution_count": null,
   "metadata": {},
   "outputs": [],
   "source": [
    "def preprocessing_pipeline(text: str) -> str:\n",
    "    \"\"\"\n",
    "    This function should chain all the cleaning functions together\n",
    "    \"\"\" \n",
    "     \n",
    "        "
   ]
  },
  {
   "cell_type": "code",
   "execution_count": null,
   "metadata": {},
   "outputs": [],
   "source": [
    "if __name__ == \"__main__\":\n",
    "    df = pd.read_csv(\"nlp_courses/tp_1_text_cleaning/to_clean.csv\", index_col=0)\n",
    "    df[\"cleaned_text\"] = df.text.apply(lambda x: preprocessing_pipeline(x))\n",
    "    for idx, row in df.iterrows():\n",
    "        print(f\"\\nBase text: {row.text}\")\n",
    "        print(f\"Cleaned text: {row.cleaned_text}\\n\")"
   ]
  }
 ],
 "metadata": {
  "kernelspec": {
   "display_name": "NPL",
   "language": "python",
   "name": "python3"
  },
  "language_info": {
   "codemirror_mode": {
    "name": "ipython",
    "version": 3
   },
   "file_extension": ".py",
   "mimetype": "text/x-python",
   "name": "python",
   "nbconvert_exporter": "python",
   "pygments_lexer": "ipython3",
   "version": "3.10.12"
  },
  "orig_nbformat": 4
 },
 "nbformat": 4,
 "nbformat_minor": 2
}
